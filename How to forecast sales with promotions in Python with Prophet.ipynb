{
 "cells": [
  {
   "cell_type": "markdown",
   "id": "ec519477",
   "metadata": {},
   "source": [
    "# How to predict sales with promotions in Python "
   ]
  },
  {
   "cell_type": "code",
   "execution_count": null,
   "id": "e7e2ead2",
   "metadata": {},
   "outputs": [],
   "source": [
    "#Locate imported packages\n",
    "import sys\n",
    "sys.path\n",
    "\n",
    "#import pandas and numpy\n",
    "import pandas as pd\n",
    "import numpy as np\n",
    "\n",
    "# From matplotlib, import pyplot under the alias plt\n",
    "from matplotlib import pyplot as plt\n",
    "\n",
    "#Import library\n",
    "from prophet import Prophet\n",
    "\n",
    "from prophet.utilities import regressor_coefficients\n",
    "\n",
    "# Reading an excel file using Python\n",
    "import os"
   ]
  },
  {
   "cell_type": "code",
   "execution_count": null,
   "id": "f0351647",
   "metadata": {},
   "outputs": [],
   "source": [
    "# Give the location of your file\n",
    "file = (\"datasets/Promotiondata.xlsx\")\n",
    " \n",
    "#Load spreadsheet\n",
    "data = pd.ExcelFile(file)\n",
    "\n",
    "## Load a sheet into a DataFrame by name\n",
    "sales_data = data.parse('Sheet1')\n",
    "\n",
    "#Check results\n",
    "print(sales_data.head())"
   ]
  },
  {
   "cell_type": "code",
   "execution_count": null,
   "id": "c44b1b0b",
   "metadata": {},
   "outputs": [],
   "source": [
    "#Rename columns\n",
    "sales_data.rename(columns={'promotion?': 'promotion', 'Month of year':'month_of_year'}, inplace = True)\n",
    "\n",
    "#Check results\n",
    "print(sales_data.columns)"
   ]
  },
  {
   "cell_type": "code",
   "execution_count": null,
   "id": "bc0bc08e",
   "metadata": {},
   "outputs": [],
   "source": [
    "# Plot sales timeplot\n",
    "plt.plot(sales_data.Month, sales_data.sales)\n",
    "\n",
    "plt.show()"
   ]
  },
  {
   "cell_type": "code",
   "execution_count": null,
   "id": "f29e256c",
   "metadata": {},
   "outputs": [],
   "source": [
    "# Creating plot\n",
    "bp = sales_data.boxplot(column = ['sales'], by ='month_of_year', grid=False)\n",
    "\n",
    "plt.show()"
   ]
  },
  {
   "cell_type": "code",
   "execution_count": null,
   "id": "58e3e268",
   "metadata": {},
   "outputs": [],
   "source": [
    "# Creating plot\n",
    "bp = sales_data.boxplot(column = ['sales'], by ='promotion', grid=False)\n",
    "\n",
    "plt.show()"
   ]
  },
  {
   "cell_type": "code",
   "execution_count": null,
   "id": "a6236683",
   "metadata": {},
   "outputs": [],
   "source": [
    "#from datetime import datetime\n",
    "#Create date sequence of 36 months so we have a proper time object as our index\n",
    "dates = pd.date_range('2011-01-01', periods=36, freq = 'MS')\n",
    "\n",
    "print(dates)"
   ]
  },
  {
   "cell_type": "code",
   "execution_count": null,
   "id": "195abad2",
   "metadata": {},
   "outputs": [],
   "source": [
    "#Add date sequence I just created to to dataframe\n",
    "sales_data['dates'] = dates\n",
    "\n",
    "#Check results\n",
    "print(sales_data['dates'].head())"
   ]
  },
  {
   "cell_type": "code",
   "execution_count": null,
   "id": "557d0a86",
   "metadata": {},
   "outputs": [],
   "source": [
    "#Subset and rename columns needed for modeling\n",
    "sales_df = sales_data[[\"dates\", \"sales\", \"promotion\"]]\n",
    "\n",
    "#Check results\n",
    "print(sales_df.head())"
   ]
  },
  {
   "cell_type": "code",
   "execution_count": null,
   "id": "503a4ac3",
   "metadata": {},
   "outputs": [],
   "source": [
    "#Rename columns\n",
    "sales_df.rename(columns = {'dates': 'ds', 'sales': 'y'},inplace = True)\n",
    "\n",
    "#Check results of renaming\n",
    "#print(sales_df.columns.values)\n",
    "print(sales_df.columns)"
   ]
  },
  {
   "cell_type": "code",
   "execution_count": null,
   "id": "8e82e619",
   "metadata": {},
   "outputs": [],
   "source": [
    "#Encode promotion variable (replace yes/no with either 1/0)\n",
    "sales_df['promo'] = [1 if x == 'yes' else 0 for x in sales_df['promotion']]\n",
    "      \n",
    "\n",
    "print(sales_df.head())"
   ]
  },
  {
   "cell_type": "code",
   "execution_count": null,
   "id": "00c7a39e",
   "metadata": {},
   "outputs": [],
   "source": [
    "#Drop original promotion column\n",
    "sales_df.drop(columns=['promotion'],axis=1,inplace=True)\n",
    "\n",
    "print(sales_df.head())"
   ]
  },
  {
   "cell_type": "markdown",
   "id": "79bfad86",
   "metadata": {},
   "source": [
    "# Run Prophet Model"
   ]
  },
  {
   "cell_type": "code",
   "execution_count": null,
   "id": "11c7e983",
   "metadata": {},
   "outputs": [],
   "source": [
    "#We need to initiate a Prophet object\n",
    "m = Prophet(seasonality_mode='multiplicative')\n",
    "m.add_regressor('promo')\n",
    "\n",
    "#Fit model\n",
    "m.fit(train)"
   ]
  },
  {
   "cell_type": "code",
   "execution_count": null,
   "id": "093484ef",
   "metadata": {},
   "outputs": [],
   "source": [
    "#Create forecast using predict function\n",
    "forecast = m.predict(test)\n",
    "fig = m.plot_components(forecast)\n",
    "\n",
    "#Print forecast to console\n",
    "print(forecast)\n"
   ]
  },
  {
   "cell_type": "code",
   "execution_count": null,
   "id": "9d4ed982",
   "metadata": {},
   "outputs": [],
   "source": [
    "#Coefficients of regressors \n",
    "regressor_coefficients(m)"
   ]
  }
 ],
 "metadata": {
  "kernelspec": {
   "display_name": "Python 3 (ipykernel)",
   "language": "python",
   "name": "python3"
  },
  "language_info": {
   "codemirror_mode": {
    "name": "ipython",
    "version": 3
   },
   "file_extension": ".py",
   "mimetype": "text/x-python",
   "name": "python",
   "nbconvert_exporter": "python",
   "pygments_lexer": "ipython3",
   "version": "3.9.7"
  }
 },
 "nbformat": 4,
 "nbformat_minor": 5
}
