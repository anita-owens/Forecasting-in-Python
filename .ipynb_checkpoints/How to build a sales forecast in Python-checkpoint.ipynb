{
 "cells": [
  {
   "cell_type": "markdown",
   "id": "ff3abe83",
   "metadata": {},
   "source": [
    "# How to build a sales forecast in Python"
   ]
  },
  {
   "cell_type": "markdown",
   "id": "b44d4736",
   "metadata": {},
   "source": [
    "We will use linear regression to determine the impact of shelf location on sales of Oreos. This dataset is from Wayne L. Winston’s Marketing Analytics: Data-Driven Techniques with Microsoft Excel. Chapter 10 is all about forecasting.I will replicate the forecast exercise done originally in Excel, but in Python."
   ]
  },
  {
   "cell_type": "markdown",
   "id": "3715a439",
   "metadata": {},
   "source": [
    "## Import packages"
   ]
  },
  {
   "cell_type": "code",
   "execution_count": 2,
   "id": "501ecea8",
   "metadata": {},
   "outputs": [],
   "source": [
    "#Locate imported packages\n",
    "import sys\n",
    "sys.path\n",
    "\n",
    "#import pandas and numpy\n",
    "import pandas as pd\n",
    "import numpy as np\n",
    "\n",
    "# Reading an excel file using Python\n",
    "import os\n",
    "\n",
    "# From matplotlib, import pyplot under the alias plt\n",
    "from matplotlib import pyplot as plt\n",
    "\n",
    "#Import Seaborn\n",
    "import seaborn as sns\n",
    "\n",
    "#Import statsmodels ols function\n",
    "from statsmodels.formula.api import ols\n",
    "\n",
    "#Suppress warnings\n",
    "import warnings\n",
    "warnings.filterwarnings('ignore')"
   ]
  },
  {
   "cell_type": "markdown",
   "id": "edaf2ec5",
   "metadata": {},
   "source": [
    "##  Import & Inspect Dataset"
   ]
  },
  {
   "cell_type": "code",
   "execution_count": 3,
   "id": "55660206",
   "metadata": {},
   "outputs": [
    {
     "name": "stdout",
     "output_type": "stream",
     "text": [
      "   Observation  Height in feet  Sales\n",
      "0            1               5     30\n",
      "1            2               6     66\n",
      "2            3               7     42\n",
      "3            4               5     32\n",
      "4            5               5     25\n"
     ]
    }
   ],
   "source": [
    "# Give the location of your file - In this case an Excel spreadsheet\n",
    "file = ('datasets/Oreos.xlsx')\n",
    " \n",
    "#Load spreadsheet\n",
    "data = pd.ExcelFile(file)\n",
    "\n",
    "## Load a sheet into a DataFrame by name - The name of the sheet is \"data\"\n",
    "df = data.parse('data')\n",
    "\n",
    "#Check results\n",
    "print(df.head())"
   ]
  },
  {
   "cell_type": "markdown",
   "id": "eb75e73d",
   "metadata": {},
   "source": [
    "Our Oreos dataset has 3 columns:\n",
    "\t1.\tObservation number\n",
    "\t2.\tHeight in feet\n",
    "\t3.\tSales"
   ]
  },
  {
   "cell_type": "code",
   "execution_count": 4,
   "id": "a1bb8a7b",
   "metadata": {},
   "outputs": [
    {
     "name": "stdout",
     "output_type": "stream",
     "text": [
      "['Observation', 'Heightinfeet', 'Sales']\n"
     ]
    }
   ],
   "source": [
    "# We need to change column name for Height in feet column\n",
    "# Let's remove the extra whitespace\n",
    "df.columns = df.columns.str.replace(' ', '')\n",
    "\n",
    "#Check results\n",
    "print(df.columns.tolist())"
   ]
  },
  {
   "cell_type": "code",
   "execution_count": 5,
   "id": "452e9645",
   "metadata": {},
   "outputs": [
    {
     "name": "stdout",
     "output_type": "stream",
     "text": [
      "<class 'pandas.core.frame.DataFrame'>\n",
      "RangeIndex: 12 entries, 0 to 11\n",
      "Data columns (total 3 columns):\n",
      " #   Column        Non-Null Count  Dtype\n",
      "---  ------        --------------  -----\n",
      " 0   Observation   12 non-null     int64\n",
      " 1   Heightinfeet  12 non-null     int64\n",
      " 2   Sales         12 non-null     int64\n",
      "dtypes: int64(3)\n",
      "memory usage: 416.0 bytes\n",
      "None\n"
     ]
    }
   ],
   "source": [
    "# Check column data types and check for non-missing values\n",
    "print(df.info())"
   ]
  },
  {
   "cell_type": "markdown",
   "id": "713ead69",
   "metadata": {},
   "source": [
    "## Exploratory Data Analysis & Visualization"
   ]
  },
  {
   "cell_type": "markdown",
   "id": "0306c1ff",
   "metadata": {},
   "source": [
    "Let's visualize our dataset."
   ]
  },
  {
   "cell_type": "code",
   "execution_count": 6,
   "id": "47b77784",
   "metadata": {},
   "outputs": [
    {
     "data": {
      "image/png": "[encoded data removed]",
      "text/plain": [
       "<Figure size 1440x360 with 2 Axes>"
      ]
     },
     "metadata": {
      "needs_background": "light"
     },
     "output_type": "display_data"
    }
   ],
   "source": [
    "# Set the color palette\n",
    "sns.set_palette(sns.color_palette(\"vlag\"))\n",
    "\n",
    "#Initialize subplots with number of rows and number of columns\n",
    "figure, ax = plt.subplots(nrows = 1, ncols = 2, figsize=(20,5))\n",
    "\n",
    "#See the distribution of the data\n",
    "sns.boxplot(data=df, x=\"Heightinfeet\", y=\"Sales\", ax=ax[0])\n",
    "sns.lineplot(data=df, x=\"Observation\", y=\"Sales\", ax=ax[1])\n",
    "\n",
    "\n",
    "#Show plot\n",
    "plt.show()"
   ]
  },
  {
   "cell_type": "code",
   "execution_count": 7,
   "id": "d34e5c9c",
   "metadata": {},
   "outputs": [
    {
     "data": {
      "text/plain": [
       "44.75"
      ]
     },
     "execution_count": 7,
     "metadata": {},
     "output_type": "execute_result"
    }
   ],
   "source": [
    "#What is average sales overall?\n",
    "df['Sales'].mean()"
   ]
  },
  {
   "cell_type": "code",
   "execution_count": 8,
   "id": "791ae95e",
   "metadata": {},
   "outputs": [
    {
     "data": {
      "text/plain": [
       "Heightinfeet\n",
       "5    28.75\n",
       "6    61.00\n",
       "7    44.50\n",
       "Name: Sales, dtype: float64"
      ]
     },
     "execution_count": 8,
     "metadata": {},
     "output_type": "execute_result"
    }
   ],
   "source": [
    "#What is the average sales?\n",
    "#Group by heightinfeet and take mean of sales\n",
    "df.groupby('Heightinfeet')['Sales'].mean()"
   ]
  },
  {
   "cell_type": "markdown",
   "id": "5bc1e1b4",
   "metadata": {},
   "source": [
    "**<font color=green>Insights from the data visualization</font>**\n",
    "\n",
    "1. Overall average sales over the entire dataset is 44.75.\n",
    "2. Higher sales when shelf height is at 6 feet. On average 61.\n",
    "3. Lower sales when shelf height as at 5 feet. On average 44.50"
   ]
  },
  {
   "cell_type": "markdown",
   "id": "6cb8abc8",
   "metadata": {},
   "source": [
    "## Forecast Modeling"
   ]
  },
  {
   "cell_type": "code",
   "execution_count": 9,
   "id": "208382d5",
   "metadata": {},
   "outputs": [],
   "source": [
    "#Convert Heightinfeet from numeric to categorical object\n",
    "df['Heightinfeet'] = df['Heightinfeet'].astype('category') "
   ]
  },
  {
   "cell_type": "code",
   "execution_count": 10,
   "id": "7dea2e65",
   "metadata": {},
   "outputs": [
    {
     "name": "stdout",
     "output_type": "stream",
     "text": [
      "                            OLS Regression Results                            \n",
      "==============================================================================\n",
      "Dep. Variable:                  Sales   R-squared:                       0.921\n",
      "Model:                            OLS   Adj. R-squared:                  0.904\n",
      "Method:                 Least Squares   F-statistic:                     52.67\n",
      "Date:                Wed, 15 Jun 2022   Prob (F-statistic):           1.08e-05\n",
      "Time:                        07:00:31   Log-Likelihood:                -33.200\n",
      "No. Observations:                  12   AIC:                             72.40\n",
      "Df Residuals:                       9   BIC:                             73.85\n",
      "Df Model:                           2                                         \n",
      "Covariance Type:            nonrobust                                         \n",
      "=====================================================================================\n",
      "                        coef    std err          t      P>|t|      [0.025      0.975]\n",
      "-------------------------------------------------------------------------------------\n",
      "Intercept            28.7500      2.222     12.939      0.000      23.723      33.777\n",
      "Heightinfeet[T.6]    32.2500      3.142     10.263      0.000      25.141      39.359\n",
      "Heightinfeet[T.7]    15.7500      3.142      5.012      0.001       8.641      22.859\n",
      "==============================================================================\n",
      "Omnibus:                        0.768   Durbin-Watson:                   2.954\n",
      "Prob(Omnibus):                  0.681   Jarque-Bera (JB):                0.616\n",
      "Skew:                          -0.121   Prob(JB):                        0.735\n",
      "Kurtosis:                       1.917   Cond. No.                         3.73\n",
      "==============================================================================\n",
      "\n",
      "Notes:\n",
      "[1] Standard Errors assume that the covariance matrix of the errors is correctly specified.\n"
     ]
    }
   ],
   "source": [
    "# Create the model object\n",
    "forecast_model = ols(\"Sales ~ Heightinfeet\", data=df)\n",
    "\n",
    "# Fit the model\n",
    "forecast_model = forecast_model.fit()\n",
    "\n",
    "# Print the summary of the fitted model\n",
    "print(forecast_model.summary())"
   ]
  },
  {
   "cell_type": "markdown",
   "id": "b3b431c3",
   "metadata": {},
   "source": [
    "A positive coefficient indicates that as the value of the independent variable increases (height), the mean of the dependent variable (sales) also tends to increase.\n",
    "\n",
    "At 5 feet sales are 28.75. Now we interpret 6 and 7 feet in relation to the 5 feet shelf location.\n",
    "\n",
    "At 6 feet sales increase by 32.25 units, but at 7 feet sales are only increased by 15.75 units in relation 5 feet. Overall, 6 feet is better location for our Oreos.\n",
    "\n",
    "p-values are <.05 for both independent variables\n",
    "\n",
    "\n",
    "How do we write our equation if we want to use this linear model to forecast sales?\n",
    "\n",
    "Sales = 28.75 + 32.25*(6 feet) + 15.75*(7 feet)\n",
    "\n",
    "Luckily, for us we can use Python to do the math for us."
   ]
  },
  {
   "cell_type": "code",
   "execution_count": 11,
   "id": "d93ab380",
   "metadata": {},
   "outputs": [
    {
     "name": "stdout",
     "output_type": "stream",
     "text": [
      "    Observation Heightinfeet  Sales\n",
      "0             1            5     30\n",
      "1             2            6     66\n",
      "2             3            7     42\n",
      "3             4            5     32\n",
      "4             5            5     25\n",
      "5             6            6     67\n",
      "6             7            6     54\n",
      "7             8            7     42\n",
      "8             9            7     47\n",
      "9            10            5     28\n",
      "10           11            6     57\n",
      "11           12            7     47\n"
     ]
    }
   ],
   "source": [
    "#Create new DataFrame to hold our future forecast\n",
    "# Create explanatory_data \n",
    "explanatory_data = df\n",
    "\n",
    "print(explanatory_data)"
   ]
  },
  {
   "cell_type": "code",
   "execution_count": 14,
   "id": "62f4e4df",
   "metadata": {},
   "outputs": [],
   "source": [
    "#Use forecast_model to predict future sales\n",
    "future_sales = forecast_model.predict(explanatory_data)"
   ]
  },
  {
   "cell_type": "code",
   "execution_count": 16,
   "id": "760ed792",
   "metadata": {},
   "outputs": [
    {
     "name": "stdout",
     "output_type": "stream",
     "text": [
      "    Observation Heightinfeet  Sales  future_sales\n",
      "0             1            5     30         28.75\n",
      "1             2            6     66         61.00\n",
      "2             3            7     42         44.50\n",
      "3             4            5     32         28.75\n",
      "4             5            5     25         28.75\n",
      "5             6            6     67         61.00\n",
      "6             7            6     54         61.00\n",
      "7             8            7     42         44.50\n",
      "8             9            7     47         44.50\n",
      "9            10            5     28         28.75\n",
      "10           11            6     57         61.00\n",
      "11           12            7     47         44.50\n"
     ]
    }
   ],
   "source": [
    "# Create prediction_data\n",
    "# Future_sales has been added as a column to the explanatory data DataFrame\n",
    "prediction_data = explanatory_data.assign(\n",
    "   future_sales = future_sales)\n",
    "\n",
    "print(prediction_data)"
   ]
  },
  {
   "cell_type": "code",
   "execution_count": 25,
   "id": "789c66de",
   "metadata": {},
   "outputs": [
    {
     "data": {
      "image/png": "[encoded data removed]",
      "text/plain": [
       "<Figure size 432x288 with 1 Axes>"
      ]
     },
     "metadata": {
      "needs_background": "light"
     },
     "output_type": "display_data"
    }
   ],
   "source": [
    "#Plot predictions, but first convert Heightinfeet back to numeric object\n",
    "df['Heightinfeet'] = pd.to_numeric(df['Heightinfeet'])\n",
    "\n",
    "# Plot first the scatter plot for our original data\n",
    "fig = plt.figure()\n",
    "sns.scatterplot(x=\"Heightinfeet\",\n",
    "            y=\"Sales\",\n",
    "            data=df)\n",
    "\n",
    "# Add a scatter plot layer\n",
    "sns.scatterplot(x=\"Heightinfeet\",\n",
    "            y=\"future_sales\",\n",
    "            data=prediction_data,\n",
    "            color = \"red\",\n",
    "            marker = \"s\")\n",
    "\n",
    "# Show the plot\n",
    "plt.show()"
   ]
  },
  {
   "cell_type": "code",
   "execution_count": null,
   "id": "53660b36",
   "metadata": {},
   "outputs": [],
   "source": []
  }
 ],
 "metadata": {
  "kernelspec": {
   "display_name": "Python 3 (ipykernel)",
   "language": "python",
   "name": "python3"
  },
  "language_info": {
   "codemirror_mode": {
    "name": "ipython",
    "version": 3
   },
   "file_extension": ".py",
   "mimetype": "text/x-python",
   "name": "python",
   "nbconvert_exporter": "python",
   "pygments_lexer": "ipython3",
   "version": "3.9.7"
  }
 },
 "nbformat": 4,
 "nbformat_minor": 5
}
