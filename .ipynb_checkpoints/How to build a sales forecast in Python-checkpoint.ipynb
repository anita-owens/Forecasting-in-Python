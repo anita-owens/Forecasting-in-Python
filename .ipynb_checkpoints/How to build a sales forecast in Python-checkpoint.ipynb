{
 "cells": [
  {
   "cell_type": "markdown",
   "id": "ff3abe83",
   "metadata": {},
   "source": [
    "# How to build a sales forecast in Python"
   ]
  },
  {
   "cell_type": "markdown",
   "id": "b44d4736",
   "metadata": {},
   "source": [
    "We will use linear regression to determine the impact of shelf location on sales of Oreos. This dataset is from Wayne L. Winston’s Marketing Analytics: Data-Driven Techniques with Microsoft Excel.Chapter 10 is all about forecasting. I will replicate the forecast exercise done originally in Excel, but in Python. \n",
    "\n",
    "**The questions to answer are:** \n",
    "1. Does shelf location impact sales? \n",
    "2. Can we quantify the impact between the different shelf heights?\n",
    "3. Can we predict future sales based on historical sales data?"
   ]
  },
  {
   "cell_type": "markdown",
   "id": "3715a439",
   "metadata": {},
   "source": [
    "## Import packages"
   ]
  },
  {
   "cell_type": "code",
   "execution_count": 1,
   "id": "501ecea8",
   "metadata": {},
   "outputs": [],
   "source": [
    "#Locate imported packages\n",
    "import sys\n",
    "sys.path\n",
    "\n",
    "#import pandas and numpy\n",
    "import pandas as pd\n",
    "import numpy as np\n",
    "\n",
    "# Reading an excel file using Python\n",
    "import os\n",
    "\n",
    "# From matplotlib, import pyplot under the alias plt\n",
    "from matplotlib import pyplot as plt\n",
    "\n",
    "#Import Seaborn\n",
    "import seaborn as sns\n",
    "\n",
    "#Import statsmodels ols function\n",
    "from statsmodels.formula.api import ols\n",
    "\n",
    "#Suppress warnings\n",
    "import warnings\n",
    "warnings.filterwarnings('ignore')"
   ]
  },
  {
   "cell_type": "markdown",
   "id": "edaf2ec5",
   "metadata": {},
   "source": [
    "##  Import & Inspect Dataset"
   ]
  },
  {
   "cell_type": "code",
   "execution_count": 2,
   "id": "55660206",
   "metadata": {},
   "outputs": [
    {
     "name": "stdout",
     "output_type": "stream",
     "text": [
      "    Observation  Height in feet  Sales\n",
      "0             1               5     24\n",
      "1             2               6     56\n",
      "2             3               7     40\n",
      "3             4               5     27\n",
      "4             5               5     22\n",
      "5             6               6     70\n",
      "6             7               6     51\n",
      "7             8               7     38\n",
      "8             9               7     33\n",
      "9            10               5     22\n",
      "10           11               6     63\n",
      "11           12               7     48\n"
     ]
    }
   ],
   "source": [
    "# Give the location of your file - In this case an Excel spreadsheet\n",
    "file = ('datasets/Oreos.xlsx')\n",
    " \n",
    "#Load spreadsheet\n",
    "data = pd.ExcelFile(file)\n",
    "\n",
    "## Load a sheet into a DataFrame by name - The name of the sheet is \"data\"\n",
    "df = data.parse('data')\n",
    "\n",
    "#Check results\n",
    "print(df)"
   ]
  },
  {
   "cell_type": "markdown",
   "id": "eb75e73d",
   "metadata": {},
   "source": [
    "Our Oreos dataset has 3 columns\n",
    "\n",
    "\t1.\tObservation number\n",
    "\t2.\tHeight in feet\n",
    "\t3.\tSales"
   ]
  },
  {
   "cell_type": "code",
   "execution_count": 3,
   "id": "a1bb8a7b",
   "metadata": {},
   "outputs": [
    {
     "name": "stdout",
     "output_type": "stream",
     "text": [
      "['Observation', 'Heightinfeet', 'Sales']\n"
     ]
    }
   ],
   "source": [
    "# We need to change column name for Height in feet column\n",
    "# Let's remove the extra whitespace\n",
    "df.columns = df.columns.str.replace(' ', '')\n",
    "\n",
    "#Check results\n",
    "print(df.columns.tolist())"
   ]
  },
  {
   "cell_type": "code",
   "execution_count": 4,
   "id": "452e9645",
   "metadata": {},
   "outputs": [
    {
     "name": "stdout",
     "output_type": "stream",
     "text": [
      "<class 'pandas.core.frame.DataFrame'>\n",
      "RangeIndex: 12 entries, 0 to 11\n",
      "Data columns (total 3 columns):\n",
      " #   Column        Non-Null Count  Dtype\n",
      "---  ------        --------------  -----\n",
      " 0   Observation   12 non-null     int64\n",
      " 1   Heightinfeet  12 non-null     int64\n",
      " 2   Sales         12 non-null     int64\n",
      "dtypes: int64(3)\n",
      "memory usage: 416.0 bytes\n",
      "None\n"
     ]
    }
   ],
   "source": [
    "# Check column data types and check for non-missing values\n",
    "print(df.info())"
   ]
  },
  {
   "cell_type": "markdown",
   "id": "713ead69",
   "metadata": {},
   "source": [
    "## Exploratory Data Analysis & Visualization"
   ]
  },
  {
   "cell_type": "markdown",
   "id": "0306c1ff",
   "metadata": {},
   "source": [
    "Let's visualize our dataset."
   ]
  },
  {
   "cell_type": "code",
   "execution_count": 5,
   "id": "47b77784",
   "metadata": {},
   "outputs": [
    {
     "data": {
      "image/png": "[encoded data removed]",
      "text/plain": [
       "<Figure size 432x288 with 1 Axes>"
      ]
     },
     "metadata": {
      "needs_background": "light"
     },
     "output_type": "display_data"
    },
    {
     "data": {
      "image/png": "[encoded data removed]",
      "text/plain": [
       "<Figure size 1080x360 with 3 Axes>"
      ]
     },
     "metadata": {
      "needs_background": "light"
     },
     "output_type": "display_data"
    }
   ],
   "source": [
    "# Set the color palette\n",
    "sns.set_palette(sns.color_palette(\"vlag\"))\n",
    "\n",
    "#See the distribution of the data\n",
    "\n",
    "#boxplot\n",
    "sns.boxplot(data=df, x=\"Heightinfeet\", y=\"Sales\")\n",
    "\n",
    "#histogram\n",
    "sns.displot(data=df, x=\"Sales\", col=\"Heightinfeet\")\n",
    "\n",
    "#Show plot\n",
    "plt.show()"
   ]
  },
  {
   "cell_type": "code",
   "execution_count": 6,
   "id": "55a611e1",
   "metadata": {},
   "outputs": [
    {
     "data": {
      "image/png": "[encoded data removed]",
      "text/plain": [
       "<Figure size 432x288 with 1 Axes>"
      ]
     },
     "metadata": {
      "needs_background": "light"
     },
     "output_type": "display_data"
    }
   ],
   "source": [
    "#Boxplot with striplot - each individual data point super-imposed on boxplot\n",
    "sns.boxplot(data=df, x=\"Heightinfeet\", y=\"Sales\")\n",
    "sns.stripplot(data=df, x=\"Heightinfeet\", y=\"Sales\", color = 'black', size = 8, alpha = 0.3)\n",
    "plt.xlabel(\"Shelf Height in Feet\", size = 12)\n",
    "plt.ylabel(\"Cookie Sales\", size = 12)\n",
    "plt.show()"
   ]
  },
  {
   "cell_type": "code",
   "execution_count": 24,
   "id": "d34e5c9c",
   "metadata": {},
   "outputs": [
    {
     "name": "stdout",
     "output_type": "stream",
     "text": [
      "41.2\n"
     ]
    }
   ],
   "source": [
    "#What are average sales overall?\n",
    "print(round(df['Sales'].mean(),1))"
   ]
  },
  {
   "cell_type": "code",
   "execution_count": 23,
   "id": "791ae95e",
   "metadata": {},
   "outputs": [
    {
     "data": {
      "text/html": [
       "<div>\n",
       "<style scoped>\n",
       "    .dataframe tbody tr th:only-of-type {\n",
       "        vertical-align: middle;\n",
       "    }\n",
       "\n",
       "    .dataframe tbody tr th {\n",
       "        vertical-align: top;\n",
       "    }\n",
       "\n",
       "    .dataframe thead tr th {\n",
       "        text-align: left;\n",
       "    }\n",
       "\n",
       "    .dataframe thead tr:last-of-type th {\n",
       "        text-align: right;\n",
       "    }\n",
       "</style>\n",
       "<table border=\"1\" class=\"dataframe\">\n",
       "  <thead>\n",
       "    <tr>\n",
       "      <th></th>\n",
       "      <th colspan=\"3\" halign=\"left\">Sales</th>\n",
       "    </tr>\n",
       "    <tr>\n",
       "      <th></th>\n",
       "      <th>mean</th>\n",
       "      <th>median</th>\n",
       "      <th>sum</th>\n",
       "    </tr>\n",
       "    <tr>\n",
       "      <th>Heightinfeet</th>\n",
       "      <th></th>\n",
       "      <th></th>\n",
       "      <th></th>\n",
       "    </tr>\n",
       "  </thead>\n",
       "  <tbody>\n",
       "    <tr>\n",
       "      <th>5</th>\n",
       "      <td>23.75</td>\n",
       "      <td>23.0</td>\n",
       "      <td>95</td>\n",
       "    </tr>\n",
       "    <tr>\n",
       "      <th>6</th>\n",
       "      <td>60.00</td>\n",
       "      <td>59.5</td>\n",
       "      <td>240</td>\n",
       "    </tr>\n",
       "    <tr>\n",
       "      <th>7</th>\n",
       "      <td>39.75</td>\n",
       "      <td>39.0</td>\n",
       "      <td>159</td>\n",
       "    </tr>\n",
       "  </tbody>\n",
       "</table>\n",
       "</div>"
      ],
      "text/plain": [
       "              Sales            \n",
       "               mean median  sum\n",
       "Heightinfeet                   \n",
       "5             23.75   23.0   95\n",
       "6             60.00   59.5  240\n",
       "7             39.75   39.0  159"
      ]
     },
     "execution_count": 23,
     "metadata": {},
     "output_type": "execute_result"
    }
   ],
   "source": [
    "#What is the average & total sales by shelf location?\n",
    "#Group by heightinfeet and take mean, median, and sum of sales\n",
    "df.groupby('Heightinfeet').agg({'Sales': ['mean', 'median', 'sum']})"
   ]
  },
  {
   "cell_type": "markdown",
   "id": "5bc1e1b4",
   "metadata": {},
   "source": [
    "**<font color=green>Insights from the data visualization & summary statistics</font>**\n",
    "\n",
    "1. Overall average sales over the entire dataset is 41.\n",
    "2. Higher sales when shelf height is at 6 feet. On average 60.\n",
    "3. Lower sales when shelf height as at 5 feet. On average 24."
   ]
  },
  {
   "cell_type": "markdown",
   "id": "6cb8abc8",
   "metadata": {},
   "source": [
    "## Forecast Modeling"
   ]
  },
  {
   "cell_type": "code",
   "execution_count": 9,
   "id": "208382d5",
   "metadata": {},
   "outputs": [],
   "source": [
    "#Convert Heightinfeet from numeric to categorical object\n",
    "df['Heightinfeet'] = df['Heightinfeet'].astype('category') "
   ]
  },
  {
   "cell_type": "code",
   "execution_count": 10,
   "id": "7dea2e65",
   "metadata": {},
   "outputs": [
    {
     "name": "stdout",
     "output_type": "stream",
     "text": [
      "                            OLS Regression Results                            \n",
      "==============================================================================\n",
      "Dep. Variable:                  Sales   R-squared:                       0.886\n",
      "Model:                            OLS   Adj. R-squared:                  0.861\n",
      "Method:                 Least Squares   F-statistic:                     34.99\n",
      "Date:                Mon, 11 Jul 2022   Prob (F-statistic):           5.69e-05\n",
      "Time:                        18:40:34   Log-Likelihood:                -37.083\n",
      "No. Observations:                  12   AIC:                             80.17\n",
      "Df Residuals:                       9   BIC:                             81.62\n",
      "Df Model:                           2                                         \n",
      "Covariance Type:            nonrobust                                         \n",
      "=====================================================================================\n",
      "                        coef    std err          t      P>|t|      [0.025      0.975]\n",
      "-------------------------------------------------------------------------------------\n",
      "Intercept            23.7500      3.071      7.734      0.000      16.803      30.697\n",
      "Heightinfeet[T.6]    36.2500      4.343      8.347      0.000      26.426      46.074\n",
      "Heightinfeet[T.7]    16.0000      4.343      3.684      0.005       6.176      25.824\n",
      "==============================================================================\n",
      "Omnibus:                        0.293   Durbin-Watson:                   2.126\n",
      "Prob(Omnibus):                  0.864   Jarque-Bera (JB):                0.296\n",
      "Skew:                           0.280   Prob(JB):                        0.862\n",
      "Kurtosis:                       2.472   Cond. No.                         3.73\n",
      "==============================================================================\n",
      "\n",
      "Notes:\n",
      "[1] Standard Errors assume that the covariance matrix of the errors is correctly specified.\n"
     ]
    }
   ],
   "source": [
    "# Create the model object\n",
    "forecast_model = ols(\"Sales ~ Heightinfeet\", data=df)\n",
    "\n",
    "# Fit the model\n",
    "forecast_model = forecast_model.fit()\n",
    "\n",
    "# Print the summary of the fitted model\n",
    "print(forecast_model.summary())"
   ]
  },
  {
   "cell_type": "markdown",
   "id": "d8963e9c",
   "metadata": {},
   "source": [
    "<font size=\"5\">**Interpreting the OLS (least squares) output**</font>\n",
    "\n",
    "\n",
    "**Coefficients**\n",
    "\n",
    "*Intercept(B0)*\n",
    "\n",
    "The intercept is the value of our dependent variable (Oreo sales) when all of the independent variables are zero. In this case, the intercept is to fit the model and has no managerial interpretation as this implies we will sell 23.75 units of Oreos if they are on a shelf at 0 height (essentially sitting on the floor). \n",
    "\n",
    "*Heightinfeet6(B1), Heightinfeet7(B2)*\n",
    "\n",
    "A positive coefficient indicates that as the value of the independent variable increases (height), the mean of the dependent variable (sales) also tends to increase.\n",
    "\n",
    "At 5 feet sales are 23.75. Now we interpret 6 and 7 feet in relation to the 5 feet shelf location.\n",
    "\n",
    "At 6 feet sales increases by a whopping 36 units, but at 7 feet sales decrease by 7.75 units in relation to 5 feet, while all other variables remaining at the same level. \n",
    "\n",
    "Overall, 6 feet is better location for our Oreos.\n",
    "\n",
    "**Standard error (std err)**\n",
    "\n",
    "Standard error of estimated coefficient.\n",
    "\n",
    "**t statistic (t)**\n",
    "\n",
    "We want to know if the t-statistic falls within the rejection region. One of 3 approaches to do a hypothesis test using regression output.\n",
    "\n",
    "**Confidence Intervals** [0.025      0.975]\n",
    "\n",
    "This informs us if the beta coefficient falls within the confidence interval range. For example, at 5 feet sales are 24, but can be within the range of 17 to 31.  The second of 3 approaches to do a hypothesis test using regression output.\n",
    "\n",
    "\n",
    "**P-values**\n",
    "\n",
    "p-values are <.05 for both independent variables. (Heightinfeet[T.6] & Heightinfeet[T.7]).  The last of the 3 approaches to do a hypothesis test using regression output.\n",
    "\n",
    "**R-squared/Coefficient of determination**\n",
    "\n",
    "The r-squared value of 0.886 indictes that 89% of the variation in sales is explained by shelf-height. The remaining variation of 11% goes unexplained. A goodness of fit measure for regression output.\n",
    "\n",
    "**F-statistic**\n",
    "\n",
    "The f-statistic of 35 tells us whether the model is significant or not significant. The model is significant if any of the coefficients are nonzero."
   ]
  },
  {
   "cell_type": "markdown",
   "id": "b8c468b7",
   "metadata": {},
   "source": [
    "**How do we write our equation if we want to use this linear model to forecast sales?**\n",
    "\n",
    "Our equation: Sales = 30.25 + 29.75*(6 feet) + 11*(7 feet)\n",
    "\n",
    "\n",
    "Luckily, for us we can use Python to do the math for us to predict future sales based on our equation."
   ]
  },
  {
   "cell_type": "markdown",
   "id": "bcb06cb9",
   "metadata": {},
   "source": [
    "## Build Forecast Model "
   ]
  },
  {
   "cell_type": "code",
   "execution_count": 11,
   "id": "d93ab380",
   "metadata": {},
   "outputs": [
    {
     "name": "stdout",
     "output_type": "stream",
     "text": [
      "    Observation Heightinfeet  Sales\n",
      "0             1            5     24\n",
      "1             2            6     56\n",
      "2             3            7     40\n",
      "3             4            5     27\n",
      "4             5            5     22\n",
      "5             6            6     70\n",
      "6             7            6     51\n",
      "7             8            7     38\n",
      "8             9            7     33\n",
      "9            10            5     22\n",
      "10           11            6     63\n",
      "11           12            7     48\n"
     ]
    }
   ],
   "source": [
    "# Create new DataFrame to hold our future forecast\n",
    "# Create explanatory_data \n",
    "explanatory_data = df\n",
    "\n",
    "print(explanatory_data)"
   ]
  },
  {
   "cell_type": "code",
   "execution_count": 12,
   "id": "b6638cef",
   "metadata": {},
   "outputs": [],
   "source": [
    "#Use forecast_model to predict future sales using predict function\n",
    "future_sales = forecast_model.predict(explanatory_data)"
   ]
  },
  {
   "cell_type": "code",
   "execution_count": 13,
   "id": "4d448267",
   "metadata": {},
   "outputs": [
    {
     "name": "stdout",
     "output_type": "stream",
     "text": [
      "    Observation Heightinfeet  Sales  future_sales\n",
      "0             1            5     24         23.75\n",
      "1             2            6     56         60.00\n",
      "2             3            7     40         39.75\n",
      "3             4            5     27         23.75\n",
      "4             5            5     22         23.75\n",
      "5             6            6     70         60.00\n",
      "6             7            6     51         60.00\n",
      "7             8            7     38         39.75\n",
      "8             9            7     33         39.75\n",
      "9            10            5     22         23.75\n",
      "10           11            6     63         60.00\n",
      "11           12            7     48         39.75\n"
     ]
    }
   ],
   "source": [
    "# Create prediction_data\n",
    "# Future_sales has been added as a column to the explanatory data DataFrame\n",
    "prediction_data = explanatory_data.assign(\n",
    "   future_sales = future_sales)\n",
    "\n",
    "print(prediction_data)"
   ]
  },
  {
   "cell_type": "code",
   "execution_count": 14,
   "id": "e94ccb7c",
   "metadata": {},
   "outputs": [
    {
     "data": {
      "image/png": "[encoded data removed]",
      "text/plain": [
       "<Figure size 432x288 with 1 Axes>"
      ]
     },
     "metadata": {
      "needs_background": "light"
     },
     "output_type": "display_data"
    }
   ],
   "source": [
    "#Plot predictions, but first convert Heightinfeet back to numeric object\n",
    "df['Heightinfeet'] = pd.to_numeric(df['Heightinfeet'])\n",
    "\n",
    "# Plot first the data for our original dataset\n",
    "fig = plt.figure()\n",
    "sns.scatterplot(x=\"Heightinfeet\",\n",
    "            y=\"Sales\",\n",
    "            data=df,\n",
    "            color = \"darkgrey\",\n",
    "            marker = \"o\")\n",
    "\n",
    "# Add a second scatter plot layer from the prediction data\n",
    "sns.scatterplot(x=\"Heightinfeet\",\n",
    "            y=\"future_sales\",\n",
    "            data=prediction_data,\n",
    "            color = \"red\",\n",
    "            marker = \"s\")\n",
    "\n",
    "# Add title\n",
    "plt.title('Forecasted Sales marked with red square')\n",
    "\n",
    "#Add x-label\n",
    "plt.xlabel('Shelf Height')\n",
    "\n",
    "# Show the plot\n",
    "plt.show()"
   ]
  },
  {
   "cell_type": "code",
   "execution_count": 15,
   "id": "e6cccf7e",
   "metadata": {},
   "outputs": [
    {
     "name": "stdout",
     "output_type": "stream",
     "text": [
      "   Observation Heightinfeet  Sales  future_sales\n",
      "0            1            5     24         23.75\n",
      "1            2            6     56         60.00\n",
      "2            3            7     40         39.75\n",
      "3            4            5     27         23.75\n",
      "4            5            5     22         23.75\n"
     ]
    }
   ],
   "source": [
    "print(prediction_data.head())"
   ]
  },
  {
   "cell_type": "markdown",
   "id": "991799a8",
   "metadata": {},
   "source": [
    "All regression models have errors. Errors are the difference between the actual sales and predicted sales."
   ]
  },
  {
   "cell_type": "code",
   "execution_count": 16,
   "id": "92970dda",
   "metadata": {},
   "outputs": [
    {
     "name": "stdout",
     "output_type": "stream",
     "text": [
      "    Observation Heightinfeet  Sales  future_sales  errors\n",
      "0             1            5     24         23.75    0.25\n",
      "1             2            6     56         60.00   -4.00\n",
      "2             3            7     40         39.75    0.25\n",
      "3             4            5     27         23.75    3.25\n",
      "4             5            5     22         23.75   -1.75\n",
      "5             6            6     70         60.00   10.00\n",
      "6             7            6     51         60.00   -9.00\n",
      "7             8            7     38         39.75   -1.75\n",
      "8             9            7     33         39.75   -6.75\n",
      "9            10            5     22         23.75   -1.75\n",
      "10           11            6     63         60.00    3.00\n",
      "11           12            7     48         39.75    8.25\n"
     ]
    }
   ],
   "source": [
    "#Add Errors to dataframe\n",
    "prediction_data['errors'] = prediction_data['Sales'] - prediction_data['future_sales']\n",
    "\n",
    "print(prediction_data)"
   ]
  },
  {
   "cell_type": "code",
   "execution_count": 17,
   "id": "53ac5b6f",
   "metadata": {},
   "outputs": [
    {
     "name": "stdout",
     "output_type": "stream",
     "text": [
      "4.263256414560601e-14\n"
     ]
    }
   ],
   "source": [
    "#Total sum of errors\n",
    "print(prediction_data['errors'].sum())\n"
   ]
  },
  {
   "cell_type": "markdown",
   "id": "892cfa83",
   "metadata": {},
   "source": [
    "Practically speaking, if we wanted to forecast sales (without a future dataframe) at 6 feet we would calculate it like the following:"
   ]
  },
  {
   "cell_type": "code",
   "execution_count": 18,
   "id": "ed89bb82",
   "metadata": {},
   "outputs": [
    {
     "name": "stdout",
     "output_type": "stream",
     "text": [
      "60.0\n"
     ]
    }
   ],
   "source": [
    "sales_at_six_feet = 23.75 + 36.25*(1) + 16*(0)\n",
    "print(sales_at_six_feet)"
   ]
  },
  {
   "cell_type": "markdown",
   "id": "6e02bc68",
   "metadata": {},
   "source": [
    "What about at five feet?"
   ]
  },
  {
   "cell_type": "code",
   "execution_count": 19,
   "id": "6e02ee82",
   "metadata": {},
   "outputs": [
    {
     "name": "stdout",
     "output_type": "stream",
     "text": [
      "23.75\n"
     ]
    }
   ],
   "source": [
    "sales_at_five_feet = 23.75 + 36.25*(0) + 16*(0)\n",
    "print(sales_at_five_feet)"
   ]
  },
  {
   "cell_type": "markdown",
   "id": "7624a874",
   "metadata": {},
   "source": [
    "What about at seven feet?\n"
   ]
  },
  {
   "cell_type": "code",
   "execution_count": 20,
   "id": "65cc2975",
   "metadata": {},
   "outputs": [
    {
     "name": "stdout",
     "output_type": "stream",
     "text": [
      "39.75\n"
     ]
    }
   ],
   "source": [
    "sales_at_seven_feet = 23.75 + 36.25*(0) + 16*(1)\n",
    "print(sales_at_seven_feet)"
   ]
  },
  {
   "cell_type": "markdown",
   "id": "7d2da05a",
   "metadata": {},
   "source": [
    "## Build Forecast Model at All Shelf Heights"
   ]
  },
  {
   "cell_type": "code",
   "execution_count": 21,
   "id": "314dedcc",
   "metadata": {},
   "outputs": [
    {
     "data": {
      "text/html": [
       "<div>\n",
       "<style scoped>\n",
       "    .dataframe tbody tr th:only-of-type {\n",
       "        vertical-align: middle;\n",
       "    }\n",
       "\n",
       "    .dataframe tbody tr th {\n",
       "        vertical-align: top;\n",
       "    }\n",
       "\n",
       "    .dataframe thead tr th {\n",
       "        text-align: left;\n",
       "    }\n",
       "\n",
       "    .dataframe thead tr:last-of-type th {\n",
       "        text-align: right;\n",
       "    }\n",
       "</style>\n",
       "<table border=\"1\" class=\"dataframe\">\n",
       "  <thead>\n",
       "    <tr>\n",
       "      <th></th>\n",
       "      <th colspan=\"2\" halign=\"left\">future_sales</th>\n",
       "    </tr>\n",
       "    <tr>\n",
       "      <th></th>\n",
       "      <th>mean</th>\n",
       "      <th>sum</th>\n",
       "    </tr>\n",
       "    <tr>\n",
       "      <th>Heightinfeet</th>\n",
       "      <th></th>\n",
       "      <th></th>\n",
       "    </tr>\n",
       "  </thead>\n",
       "  <tbody>\n",
       "    <tr>\n",
       "      <th>5</th>\n",
       "      <td>23.75</td>\n",
       "      <td>95.0</td>\n",
       "    </tr>\n",
       "    <tr>\n",
       "      <th>6</th>\n",
       "      <td>60.00</td>\n",
       "      <td>240.0</td>\n",
       "    </tr>\n",
       "    <tr>\n",
       "      <th>7</th>\n",
       "      <td>39.75</td>\n",
       "      <td>159.0</td>\n",
       "    </tr>\n",
       "  </tbody>\n",
       "</table>\n",
       "</div>"
      ],
      "text/plain": [
       "             future_sales       \n",
       "                     mean    sum\n",
       "Heightinfeet                    \n",
       "5                   23.75   95.0\n",
       "6                   60.00  240.0\n",
       "7                   39.75  159.0"
      ]
     },
     "execution_count": 21,
     "metadata": {},
     "output_type": "execute_result"
    }
   ],
   "source": [
    "#Group by heightinfeet and take mean and sum of sales\n",
    "prediction_data.groupby('Heightinfeet').agg({'future_sales': ['mean', 'sum']})"
   ]
  },
  {
   "cell_type": "markdown",
   "id": "b5b46b54",
   "metadata": {},
   "source": [
    "## Key Takeaways"
   ]
  },
  {
   "cell_type": "markdown",
   "id": "07849ec4",
   "metadata": {},
   "source": [
    "Does shelf location impact sales?\n",
    "\n",
    "Yes absolutely! If we want to maximize sales, then placing our product at 6 feet gives us the best sales. We will sell on average 60 units and we can expect to sell 240 total units."
   ]
  },
  {
   "cell_type": "markdown",
   "id": "575dd1b8",
   "metadata": {},
   "source": [
    "### When you have one categorical variable in a linear regression model, the coefficients of the model are the means of each category. You can get the means by removing the intercept from the model as illustrated below"
   ]
  },
  {
   "cell_type": "code",
   "execution_count": 22,
   "id": "fd2a67bf",
   "metadata": {},
   "outputs": [
    {
     "name": "stdout",
     "output_type": "stream",
     "text": [
      "Heightinfeet[5]    23.75\n",
      "Heightinfeet[6]    60.00\n",
      "Heightinfeet[7]    39.75\n",
      "dtype: float64\n"
     ]
    }
   ],
   "source": [
    "#Convert Heightinfeet from numeric to categorical object\n",
    "df['Heightinfeet'] = df['Heightinfeet'].astype('category') \n",
    "\n",
    "# Create the model object\n",
    "forecast_model = ols(\"Sales ~ Heightinfeet + 0\", data=df)\n",
    "\n",
    "# Fit the model\n",
    "forecast_model = forecast_model.fit()\n",
    "\n",
    "# Print the coefficients only - the .params attribute\n",
    "print(forecast_model.params)"
   ]
  },
  {
   "cell_type": "markdown",
   "id": "77dd6c23",
   "metadata": {},
   "source": [
    "As you can see, the coefficients with the intercept removed are the same as our forecast!"
   ]
  }
 ],
 "metadata": {
  "kernelspec": {
   "display_name": "Python 3 (ipykernel)",
   "language": "python",
   "name": "python3"
  },
  "language_info": {
   "codemirror_mode": {
    "name": "ipython",
    "version": 3
   },
   "file_extension": ".py",
   "mimetype": "text/x-python",
   "name": "python",
   "nbconvert_exporter": "python",
   "pygments_lexer": "ipython3",
   "version": "3.9.7"
  }
 },
 "nbformat": 4,
 "nbformat_minor": 5
}
