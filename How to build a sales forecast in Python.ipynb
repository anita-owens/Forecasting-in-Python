{
 "cells": [
  {
   "cell_type": "markdown",
   "id": "ff3abe83",
   "metadata": {},
   "source": [
    "# How to build a sales forecast in Python"
   ]
  },
  {
   "cell_type": "markdown",
   "id": "b44d4736",
   "metadata": {},
   "source": [
    "We will use linear regression to determine the impact of shelf location on sales of Oreos. This dataset is from Wayne L. Winston’s Marketing Analytics: Data-Driven Techniques with Microsoft Excel.Chapter 10 is all about forecasting. I will replicate the forecast exercise done originally in Excel, but in Python. \n",
    "\n",
    "**The questions to answer are:** \n",
    "1. Does shelf location impact sales? \n",
    "2. Can we quantify the impact between the different shelf heights?\n",
    "3. Can we predict future sales based on historical sales data?"
   ]
  },
  {
   "cell_type": "markdown",
   "id": "3715a439",
   "metadata": {},
   "source": [
    "## Import packages"
   ]
  },
  {
   "cell_type": "code",
   "execution_count": 33,
   "id": "501ecea8",
   "metadata": {},
   "outputs": [],
   "source": [
    "#Locate imported packages\n",
    "import sys\n",
    "sys.path\n",
    "\n",
    "#import pandas and numpy\n",
    "import pandas as pd\n",
    "import numpy as np\n",
    "\n",
    "# Reading an excel file using Python\n",
    "import os\n",
    "\n",
    "# From matplotlib, import pyplot under the alias plt\n",
    "from matplotlib import pyplot as plt\n",
    "\n",
    "#Import Seaborn\n",
    "import seaborn as sns\n",
    "\n",
    "#Import statsmodels ols function\n",
    "from statsmodels.formula.api import ols\n",
    "\n",
    "#Suppress warnings\n",
    "import warnings\n",
    "warnings.filterwarnings('ignore')"
   ]
  },
  {
   "cell_type": "markdown",
   "id": "edaf2ec5",
   "metadata": {},
   "source": [
    "##  Import & Inspect Dataset"
   ]
  },
  {
   "cell_type": "code",
   "execution_count": 34,
   "id": "55660206",
   "metadata": {},
   "outputs": [
    {
     "name": "stdout",
     "output_type": "stream",
     "text": [
      "    Observation  Height in feet  Sales\n",
      "0             1               5     30\n",
      "1             2               6     67\n",
      "2             3               7     40\n",
      "3             4               5     40\n",
      "4             5               5     21\n",
      "5             6               6     55\n",
      "6             7               6     63\n",
      "7             8               7     45\n",
      "8             9               7     34\n",
      "9            10               5     30\n",
      "10           11               6     55\n",
      "11           12               7     46\n"
     ]
    }
   ],
   "source": [
    "# Give the location of your file - In this case an Excel spreadsheet\n",
    "file = ('datasets/Oreos.xlsx')\n",
    " \n",
    "#Load spreadsheet\n",
    "data = pd.ExcelFile(file)\n",
    "\n",
    "## Load a sheet into a DataFrame by name - The name of the sheet is \"data\"\n",
    "df = data.parse('data')\n",
    "\n",
    "#Check results\n",
    "print(df)"
   ]
  },
  {
   "cell_type": "markdown",
   "id": "eb75e73d",
   "metadata": {},
   "source": [
    "Our Oreos dataset has 3 columns:\n",
    "\t1.\tObservation number\n",
    "\t2.\tHeight in feet\n",
    "\t3.\tSales"
   ]
  },
  {
   "cell_type": "code",
   "execution_count": 35,
   "id": "a1bb8a7b",
   "metadata": {},
   "outputs": [
    {
     "name": "stdout",
     "output_type": "stream",
     "text": [
      "['Observation', 'Heightinfeet', 'Sales']\n"
     ]
    }
   ],
   "source": [
    "# We need to change column name for Height in feet column\n",
    "# Let's remove the extra whitespace\n",
    "df.columns = df.columns.str.replace(' ', '')\n",
    "\n",
    "#Check results\n",
    "print(df.columns.tolist())"
   ]
  },
  {
   "cell_type": "code",
   "execution_count": 36,
   "id": "452e9645",
   "metadata": {},
   "outputs": [
    {
     "name": "stdout",
     "output_type": "stream",
     "text": [
      "<class 'pandas.core.frame.DataFrame'>\n",
      "RangeIndex: 12 entries, 0 to 11\n",
      "Data columns (total 3 columns):\n",
      " #   Column        Non-Null Count  Dtype\n",
      "---  ------        --------------  -----\n",
      " 0   Observation   12 non-null     int64\n",
      " 1   Heightinfeet  12 non-null     int64\n",
      " 2   Sales         12 non-null     int64\n",
      "dtypes: int64(3)\n",
      "memory usage: 416.0 bytes\n",
      "None\n"
     ]
    }
   ],
   "source": [
    "# Check column data types and check for non-missing values\n",
    "print(df.info())"
   ]
  },
  {
   "cell_type": "markdown",
   "id": "713ead69",
   "metadata": {},
   "source": [
    "## Exploratory Data Analysis & Visualization"
   ]
  },
  {
   "cell_type": "markdown",
   "id": "0306c1ff",
   "metadata": {},
   "source": [
    "Let's visualize our dataset."
   ]
  },
  {
   "cell_type": "code",
   "execution_count": 37,
   "id": "47b77784",
   "metadata": {},
   "outputs": [
    {
     "data": {
      "image/png": "[encoded data removed]",
      "text/plain": [
       "<Figure size 1440x360 with 2 Axes>"
      ]
     },
     "metadata": {
      "needs_background": "light"
     },
     "output_type": "display_data"
    }
   ],
   "source": [
    "# Set the color palette\n",
    "sns.set_palette(sns.color_palette(\"vlag\"))\n",
    "\n",
    "#Initialize subplots with number of rows and number of columns\n",
    "figure, ax = plt.subplots(nrows = 1, ncols = 2, figsize=(20,5))\n",
    "\n",
    "#See the distribution of the data\n",
    "sns.boxplot(data=df, x=\"Heightinfeet\", y=\"Sales\", ax=ax[0])\n",
    "sns.lineplot(data=df, x=\"Observation\", y=\"Sales\", ax=ax[1])\n",
    "\n",
    "\n",
    "#Show plot\n",
    "plt.show()"
   ]
  },
  {
   "cell_type": "code",
   "execution_count": 56,
   "id": "55a611e1",
   "metadata": {},
   "outputs": [
    {
     "data": {
      "image/png": "[encoded data removed]",
      "text/plain": [
       "<Figure size 432x288 with 1 Axes>"
      ]
     },
     "metadata": {
      "needs_background": "light"
     },
     "output_type": "display_data"
    }
   ],
   "source": [
    "#Boxplot with striplot - each individual data point \n",
    "sns.boxplot(data=df, x=\"Heightinfeet\", y=\"Sales\")\n",
    "sns.stripplot(data=df, x=\"Heightinfeet\", y=\"Sales\", color = 'black', size = 8, alpha = 0.3)\n",
    "plt.xlabel(\"Shelf Height in Feet\", size = 12)\n",
    "plt.ylabel(\"Cookie Sales\", size = 12)\n",
    "plt.show()"
   ]
  },
  {
   "cell_type": "code",
   "execution_count": 39,
   "id": "d34e5c9c",
   "metadata": {},
   "outputs": [
    {
     "data": {
      "text/plain": [
       "43.833333333333336"
      ]
     },
     "execution_count": 39,
     "metadata": {},
     "output_type": "execute_result"
    }
   ],
   "source": [
    "#What is average sales overall?\n",
    "df['Sales'].mean()"
   ]
  },
  {
   "cell_type": "code",
   "execution_count": 40,
   "id": "791ae95e",
   "metadata": {},
   "outputs": [
    {
     "data": {
      "text/plain": [
       "Heightinfeet\n",
       "5    30.25\n",
       "6    60.00\n",
       "7    41.25\n",
       "Name: Sales, dtype: float64"
      ]
     },
     "execution_count": 40,
     "metadata": {},
     "output_type": "execute_result"
    }
   ],
   "source": [
    "#What is the average sales by shelf location?\n",
    "#Group by heightinfeet and take mean of sales\n",
    "df.groupby('Heightinfeet')['Sales'].mean()"
   ]
  },
  {
   "cell_type": "markdown",
   "id": "5bc1e1b4",
   "metadata": {},
   "source": [
    "**<font color=green>Insights from the data visualization & summary statistics</font>**\n",
    "\n",
    "1. Overall average sales over the entire dataset is 44.75.\n",
    "2. Higher sales when shelf height is at 6 feet. On average 61.\n",
    "3. Lower sales when shelf height as at 5 feet. On average 44.50"
   ]
  },
  {
   "cell_type": "markdown",
   "id": "6cb8abc8",
   "metadata": {},
   "source": [
    "## Forecast Modeling"
   ]
  },
  {
   "cell_type": "code",
   "execution_count": 41,
   "id": "208382d5",
   "metadata": {},
   "outputs": [],
   "source": [
    "#Convert Heightinfeet from numeric to categorical object\n",
    "df['Heightinfeet'] = df['Heightinfeet'].astype('category') "
   ]
  },
  {
   "cell_type": "code",
   "execution_count": 42,
   "id": "7dea2e65",
   "metadata": {},
   "outputs": [
    {
     "name": "stdout",
     "output_type": "stream",
     "text": [
      "                            OLS Regression Results                            \n",
      "==============================================================================\n",
      "Dep. Variable:                  Sales   R-squared:                       0.827\n",
      "Model:                            OLS   Adj. R-squared:                  0.788\n",
      "Method:                 Least Squares   F-statistic:                     21.46\n",
      "Date:                Fri, 17 Jun 2022   Prob (F-statistic):           0.000376\n",
      "Time:                        20:48:03   Log-Likelihood:                -37.751\n",
      "No. Observations:                  12   AIC:                             81.50\n",
      "Df Residuals:                       9   BIC:                             82.96\n",
      "Df Model:                           2                                         \n",
      "Covariance Type:            nonrobust                                         \n",
      "=====================================================================================\n",
      "                        coef    std err          t      P>|t|      [0.025      0.975]\n",
      "-------------------------------------------------------------------------------------\n",
      "Intercept            30.2500      3.247      9.317      0.000      22.905      37.595\n",
      "Heightinfeet[T.6]    29.7500      4.592      6.479      0.000      19.363      40.137\n",
      "Heightinfeet[T.7]    11.0000      4.592      2.396      0.040       0.613      21.387\n",
      "==============================================================================\n",
      "Omnibus:                        0.562   Durbin-Watson:                   2.564\n",
      "Prob(Omnibus):                  0.755   Jarque-Bera (JB):                0.538\n",
      "Skew:                           0.015   Prob(JB):                        0.764\n",
      "Kurtosis:                       1.963   Cond. No.                         3.73\n",
      "==============================================================================\n",
      "\n",
      "Notes:\n",
      "[1] Standard Errors assume that the covariance matrix of the errors is correctly specified.\n"
     ]
    }
   ],
   "source": [
    "# Create the model object\n",
    "forecast_model = ols(\"Sales ~ Heightinfeet\", data=df)\n",
    "\n",
    "# Fit the model\n",
    "forecast_model = forecast_model.fit()\n",
    "\n",
    "# Print the summary of the fitted model\n",
    "print(forecast_model.summary())"
   ]
  },
  {
   "cell_type": "markdown",
   "id": "d8963e9c",
   "metadata": {},
   "source": [
    "<font size=\"5\">**Interpreting the OLS (least squares) output**</font>\n",
    "\n",
    "\n",
    "**Coefficients**\n",
    "\n",
    "*Intercept(B0)*\n",
    "\n",
    "The intercept is the value of our dependent variable (Oreo sales) when all of the independent variables are zero. In this case, the intercept is to fit the model and has no managerial interpretation as this implies we will sell 28 units of Oreos if they are on a shelf at 0 height (essentially sitting on the floor). \n",
    "\n",
    "*Heightinfeet6(B1), Heightinfeet7(B2)*\n",
    "\n",
    "A positive coefficient indicates that as the value of the independent variable increases (height), the mean of the dependent variable (sales) also tends to increase.\n",
    "\n",
    "At 5 feet sales are 28.75. Now we interpret 6 and 7 feet in relation to the 5 feet shelf location.\n",
    "\n",
    "At 6 feet sales increase by 32.25 units, but at 7 feet sales are only increased by 15.75 units in relation to 5 feet, while all other variables remaining at the same level. \n",
    "\n",
    "Overall, 6 feet is better location for our Oreos.\n",
    "\n",
    "**Standard error (std err)**\n",
    "\n",
    "Standard error of estimated coefficient.\n",
    "\n",
    "**t statistic (t)**\n",
    "\n",
    "We want to know if the t-statistic falls within the rejection region. One of 3 approaches to do a hypothesis test using regression output.\n",
    "\n",
    "**Confidence Intervals** [0.025      0.975]\n",
    "\n",
    "This informs us if the beta coefficient falls within the confidence interval range. For example, at 5 feet sales are 28.75, but can be within the range of 23.723 to 33.777.  The second of 3 approaches to do a hypothesis test using regression output.\n",
    "\n",
    "\n",
    "**P-values**\n",
    "\n",
    "p-values are <.05 for both independent variables. (Heightinfeet[T.6] & Heightinfeet[T.7]).  The last of the 3 approaches to do a hypothesis test using regression output.\n",
    "\n",
    "**R-squared/Coefficient of determination**\n",
    "\n",
    "The r-squared value of 0.921 indictes that 92% of the variation in sales is explained by shelf-height. The remaining variation of 8% goes unexplained. A goodness of fit measure for regression output.\n",
    "\n",
    "**F-statistic**\n",
    "\n",
    "The f-statistic of 52.67 tells us whether the model is significant or not significant. The model is significant if any of the coefficients are nonzero."
   ]
  },
  {
   "cell_type": "markdown",
   "id": "b8c468b7",
   "metadata": {},
   "source": [
    "**How do we write our equation if we want to use this linear model to forecast sales?**\n",
    "\n",
    "Our equation: Sales = 28.75 + 32.25*(6 feet) + 15.75*(7 feet)\n",
    "\n",
    "\n",
    "Luckily, for us we can use Python to do the math for us to predict future sales based on our equation."
   ]
  },
  {
   "cell_type": "code",
   "execution_count": 43,
   "id": "d93ab380",
   "metadata": {},
   "outputs": [
    {
     "name": "stdout",
     "output_type": "stream",
     "text": [
      "    Observation Heightinfeet  Sales\n",
      "0             1            5     30\n",
      "1             2            6     67\n",
      "2             3            7     40\n",
      "3             4            5     40\n",
      "4             5            5     21\n",
      "5             6            6     55\n",
      "6             7            6     63\n",
      "7             8            7     45\n",
      "8             9            7     34\n",
      "9            10            5     30\n",
      "10           11            6     55\n",
      "11           12            7     46\n"
     ]
    }
   ],
   "source": [
    "# Create new DataFrame to hold our future forecast\n",
    "# Create explanatory_data \n",
    "explanatory_data = df\n",
    "\n",
    "print(explanatory_data)"
   ]
  },
  {
   "cell_type": "code",
   "execution_count": 44,
   "id": "b6638cef",
   "metadata": {},
   "outputs": [],
   "source": [
    "#Use forecast_model to predict future sales\n",
    "future_sales = forecast_model.predict(explanatory_data)"
   ]
  },
  {
   "cell_type": "code",
   "execution_count": 45,
   "id": "4d448267",
   "metadata": {},
   "outputs": [
    {
     "name": "stdout",
     "output_type": "stream",
     "text": [
      "    Observation Heightinfeet  Sales  future_sales\n",
      "0             1            5     30         30.25\n",
      "1             2            6     67         60.00\n",
      "2             3            7     40         41.25\n",
      "3             4            5     40         30.25\n",
      "4             5            5     21         30.25\n",
      "5             6            6     55         60.00\n",
      "6             7            6     63         60.00\n",
      "7             8            7     45         41.25\n",
      "8             9            7     34         41.25\n",
      "9            10            5     30         30.25\n",
      "10           11            6     55         60.00\n",
      "11           12            7     46         41.25\n"
     ]
    }
   ],
   "source": [
    "# Create prediction_data\n",
    "# Future_sales has been added as a column to the explanatory data DataFrame\n",
    "prediction_data = explanatory_data.assign(\n",
    "   future_sales = future_sales)\n",
    "\n",
    "print(prediction_data)"
   ]
  },
  {
   "cell_type": "code",
   "execution_count": 46,
   "id": "e94ccb7c",
   "metadata": {},
   "outputs": [
    {
     "data": {
      "image/png": "[encoded data removed]",
      "text/plain": [
       "<Figure size 432x288 with 1 Axes>"
      ]
     },
     "metadata": {
      "needs_background": "light"
     },
     "output_type": "display_data"
    }
   ],
   "source": [
    "#Plot predictions, but first convert Heightinfeet back to numeric object\n",
    "df['Heightinfeet'] = pd.to_numeric(df['Heightinfeet'])\n",
    "\n",
    "# Plot first the data for our original dataset\n",
    "fig = plt.figure()\n",
    "sns.regplot(x=\"Heightinfeet\",\n",
    "            y=\"Sales\",\n",
    "            data=df,\n",
    "            fit_reg=False)\n",
    "\n",
    "# Add a scatter plot layer\n",
    "sns.scatterplot(x=\"Heightinfeet\",\n",
    "            y=\"future_sales\",\n",
    "            data=prediction_data,\n",
    "            color = \"red\",\n",
    "            marker = \"s\")\n",
    "\n",
    "# Add title\n",
    "plt.title('Forecasted Sales marked with red square')\n",
    "\n",
    "#Add x-label\n",
    "plt.xlabel('Shelf Height')\n",
    "\n",
    "# Show the plot\n",
    "plt.show()"
   ]
  },
  {
   "cell_type": "code",
   "execution_count": 47,
   "id": "e6cccf7e",
   "metadata": {},
   "outputs": [
    {
     "name": "stdout",
     "output_type": "stream",
     "text": [
      "   Observation Heightinfeet  Sales  future_sales\n",
      "0            1            5     30         30.25\n",
      "1            2            6     67         60.00\n",
      "2            3            7     40         41.25\n",
      "3            4            5     40         30.25\n",
      "4            5            5     21         30.25\n"
     ]
    }
   ],
   "source": [
    "print(prediction_data.head())"
   ]
  },
  {
   "cell_type": "markdown",
   "id": "991799a8",
   "metadata": {},
   "source": [
    "All regression models have errors. Errors are the difference between the actual sales and predicted sales."
   ]
  },
  {
   "cell_type": "code",
   "execution_count": 48,
   "id": "92970dda",
   "metadata": {},
   "outputs": [
    {
     "name": "stdout",
     "output_type": "stream",
     "text": [
      "    Observation Heightinfeet  Sales  future_sales  errors\n",
      "0             1            5     30         30.25   -0.25\n",
      "1             2            6     67         60.00    7.00\n",
      "2             3            7     40         41.25   -1.25\n",
      "3             4            5     40         30.25    9.75\n",
      "4             5            5     21         30.25   -9.25\n",
      "5             6            6     55         60.00   -5.00\n",
      "6             7            6     63         60.00    3.00\n",
      "7             8            7     45         41.25    3.75\n",
      "8             9            7     34         41.25   -7.25\n",
      "9            10            5     30         30.25   -0.25\n",
      "10           11            6     55         60.00   -5.00\n",
      "11           12            7     46         41.25    4.75\n"
     ]
    }
   ],
   "source": [
    "#Add Errors to dataframe\n",
    "prediction_data['errors'] = prediction_data['Sales'] - prediction_data['future_sales']\n",
    "\n",
    "print(prediction_data)"
   ]
  },
  {
   "cell_type": "code",
   "execution_count": 50,
   "id": "53ac5b6f",
   "metadata": {},
   "outputs": [
    {
     "data": {
      "text/plain": [
       "-2.842170943040401e-14"
      ]
     },
     "execution_count": 50,
     "metadata": {},
     "output_type": "execute_result"
    }
   ],
   "source": [
    "#Total sum of errors\n",
    "prediction_data['errors'].sum()"
   ]
  },
  {
   "cell_type": "markdown",
   "id": "7d2da05a",
   "metadata": {},
   "source": [
    "## Build Forecast"
   ]
  },
  {
   "cell_type": "code",
   "execution_count": 51,
   "id": "314dedcc",
   "metadata": {},
   "outputs": [
    {
     "data": {
      "text/html": [
       "<div>\n",
       "<style scoped>\n",
       "    .dataframe tbody tr th:only-of-type {\n",
       "        vertical-align: middle;\n",
       "    }\n",
       "\n",
       "    .dataframe tbody tr th {\n",
       "        vertical-align: top;\n",
       "    }\n",
       "\n",
       "    .dataframe thead tr th {\n",
       "        text-align: left;\n",
       "    }\n",
       "\n",
       "    .dataframe thead tr:last-of-type th {\n",
       "        text-align: right;\n",
       "    }\n",
       "</style>\n",
       "<table border=\"1\" class=\"dataframe\">\n",
       "  <thead>\n",
       "    <tr>\n",
       "      <th></th>\n",
       "      <th colspan=\"2\" halign=\"left\">future_sales</th>\n",
       "    </tr>\n",
       "    <tr>\n",
       "      <th></th>\n",
       "      <th>mean</th>\n",
       "      <th>sum</th>\n",
       "    </tr>\n",
       "    <tr>\n",
       "      <th>Heightinfeet</th>\n",
       "      <th></th>\n",
       "      <th></th>\n",
       "    </tr>\n",
       "  </thead>\n",
       "  <tbody>\n",
       "    <tr>\n",
       "      <th>5</th>\n",
       "      <td>30.25</td>\n",
       "      <td>121.0</td>\n",
       "    </tr>\n",
       "    <tr>\n",
       "      <th>6</th>\n",
       "      <td>60.00</td>\n",
       "      <td>240.0</td>\n",
       "    </tr>\n",
       "    <tr>\n",
       "      <th>7</th>\n",
       "      <td>41.25</td>\n",
       "      <td>165.0</td>\n",
       "    </tr>\n",
       "  </tbody>\n",
       "</table>\n",
       "</div>"
      ],
      "text/plain": [
       "             future_sales       \n",
       "                     mean    sum\n",
       "Heightinfeet                    \n",
       "5                   30.25  121.0\n",
       "6                   60.00  240.0\n",
       "7                   41.25  165.0"
      ]
     },
     "execution_count": 51,
     "metadata": {},
     "output_type": "execute_result"
    }
   ],
   "source": [
    "#Group by heightinfeet and take mean and sum of sales\n",
    "prediction_data.groupby('Heightinfeet').agg({'future_sales': ['mean', 'sum']})"
   ]
  },
  {
   "cell_type": "markdown",
   "id": "b5b46b54",
   "metadata": {},
   "source": [
    "## Key Takeaways"
   ]
  },
  {
   "cell_type": "markdown",
   "id": "07849ec4",
   "metadata": {},
   "source": [
    "Does shelf location impact sales?\n",
    "\n",
    "Yes absolutely! If we want to maximize sales, then placing our product at 6 feet gives us the best sales. We will sell on average 61 units vs (29 units at 5 feet and 45 units at 7 feet. If we place our product at 6 feet we can expect to sell 244 total units."
   ]
  }
 ],
 "metadata": {
  "kernelspec": {
   "display_name": "Python 3 (ipykernel)",
   "language": "python",
   "name": "python3"
  },
  "language_info": {
   "codemirror_mode": {
    "name": "ipython",
    "version": 3
   },
   "file_extension": ".py",
   "mimetype": "text/x-python",
   "name": "python",
   "nbconvert_exporter": "python",
   "pygments_lexer": "ipython3",
   "version": "3.9.7"
  }
 },
 "nbformat": 4,
 "nbformat_minor": 5
}
